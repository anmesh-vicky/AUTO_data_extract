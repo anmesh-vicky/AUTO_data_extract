{
 "cells": [
  {
   "cell_type": "code",
   "execution_count": 6,
   "metadata": {},
   "outputs": [],
   "source": [
    "import pandas as pd\n",
    "import numpy as np"
   ]
  },
  {
   "cell_type": "code",
   "execution_count": 8,
   "metadata": {},
   "outputs": [],
   "source": [
    "from pymatgen import Lattice, Structure\n",
    "import numpy\n",
    "import xrayutilities as xru\n",
    "from xrayutilities.materials.cif import CIFFile\n",
    "from xrayutilities.materials.material import Crystal\n",
    "from IPython.display import Image, display\n",
    "from tempfile import NamedTemporaryFile\n",
    "import matplotlib.pyplot as plt \n",
    "import matplotlib.ticker as ticker\n",
    "import matplotlib\n",
    "%matplotlib inline\n",
    "matplotlib.rcParams.update({'font.size': 18})\n",
    "fig_size = [15, 12]\n",
    "plt.rcParams[\"figure.figsize\"] = fig_size"
   ]
  },
  {
   "cell_type": "code",
   "execution_count": 9,
   "metadata": {},
   "outputs": [],
   "source": [
    "# xu_cif = CIFFile(\"cif/mp-10602.cif\")"
   ]
  },
  {
   "cell_type": "code",
   "execution_count": 10,
   "metadata": {},
   "outputs": [],
   "source": [
    "# xu_crystal = Crystal(name= None,lat=xu_cif.SGLattice())\n",
    "# two_theta = numpy.arange(0, 80, 0.01)\n",
    "\n",
    "# powder = xru.simpack.smaterials.Powder(xu_crystal, 1)\n",
    "# pm = xru.simpack.PowderModel(powder, I0=100)\n",
    "# intensities = pm.simulate(two_theta)\n",
    "# # plt.plot(two_theta,intensities)\n",
    "# # plt.xlim(0,80)\n",
    "# # ax = plt.axes()\n",
    "# -# ax.xaxis.set_major_locator(ticker.MultipleLocator(5))\n",
    "# # ax.yaxis.set_major_formatter(ticker.FormatStrFormatter('%.4f'))\n",
    "# # plt.title(\"XRD Pattern for \" + xu_crystal.name)\n",
    "# # plt.xlabel(\"2 theta (degrees)\")\n",
    "# # plt.ylabel(\"Intensity\")\n",
    "# # plt.show()"
   ]
  },
  {
   "cell_type": "code",
   "execution_count": 12,
   "metadata": {},
   "outputs": [],
   "source": [
    "df = pd.read_csv(\"data.csv\")\n",
    "task_id,Spacegroup = df[\"Material_id\"],df[\"Space_group\"] "
   ]
  },
  {
   "cell_type": "code",
   "execution_count": 41,
   "metadata": {},
   "outputs": [
    {
     "data": {
      "text/plain": [
       "array([], shape=(0, 2), dtype=object)"
      ]
     },
     "execution_count": 41,
     "metadata": {},
     "output_type": "execute_result"
    }
   ],
   "source": [
    "for id_ ,space_group in zip(task_id,Spacegroup):\n",
    "    xu_cif = CIFFile(\"cif/\"+i)\n",
    "    xu_crystal = Crystal(name= None,lat=xu_cif.SGLattice())\n",
    "    two_theta = numpy.arange(0, 80, 0.01)\n",
    "    powder = xru.simpack.smaterials.Powder(xu_crystal, 1)\n",
    "    pm = xru.simpack.PowderModel(powder, I0=100)\n",
    "    intensities = pm.simulate(two_theta)\n",
    "    df.append({'task_id': id_,two_theta:intensities,\"class\":space_group},ignore_index=True)\n",
    "df.to_csv(\"final_data.csv\")   "
   ]
  },
  {
   "cell_type": "code",
   "execution_count": null,
   "metadata": {},
   "outputs": [],
   "source": []
  },
  {
   "cell_type": "code",
   "execution_count": null,
   "metadata": {},
   "outputs": [],
   "source": []
  }
 ],
 "metadata": {
  "kernelspec": {
   "display_name": "Python 3",
   "language": "python",
   "name": "python3"
  },
  "language_info": {
   "codemirror_mode": {
    "name": "ipython",
    "version": 3
   },
   "file_extension": ".py",
   "mimetype": "text/x-python",
   "name": "python",
   "nbconvert_exporter": "python",
   "pygments_lexer": "ipython3",
   "version": "3.7.1"
  }
 },
 "nbformat": 4,
 "nbformat_minor": 2
}
