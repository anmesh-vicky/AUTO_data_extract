{
 "cells": [
  {
   "cell_type": "code",
   "execution_count": 2,
   "metadata": {},
   "outputs": [],
   "source": [
    "import json \n",
    "try:\n",
    "    # Python 3\n",
    "    from itertools import zip_longest\n",
    "except ImportError:\n",
    "    # Python 2\n",
    "    from itertools import izip_longest as zip_longest\n",
    "\n",
    "from tqdm import tqdm\n",
    "from pymatgen import MPRester\n",
    "mpr = MPRester(\"TZ4ibwqcz6vR2Kz2Wnt\")"
   ]
  },
  {
   "cell_type": "code",
   "execution_count": 3,
   "metadata": {},
   "outputs": [
    {
     "data": {
      "application/vnd.jupyter.widget-view+json": {
       "model_id": "80456a7115a04354a2d2c957030c88b4",
       "version_major": 2,
       "version_minor": 0
      },
      "text/plain": [
       "HBox(children=(IntProgress(value=0, max=7357), HTML(value='')))"
      ]
     },
     "metadata": {},
     "output_type": "display_data"
    },
    {
     "name": "stdout",
     "output_type": "stream",
     "text": [
      "\n"
     ]
    },
    {
     "data": {
      "text/plain": [
       "7357"
      ]
     },
     "execution_count": 3,
     "metadata": {},
     "output_type": "execute_result"
    }
   ],
   "source": [
    "entries = mpr.query(criteria={\"spacegroup.symbol\": {\"$in\":[\"Fm-3m\",\"Pc\",\"141mcm\",\"P21a\",\"P3m1\",\"P61mmc\",\"Pm-3m\"]},\"nelements\":3},properties =[\"material_id\",\"spacegroup.symbol\"])\n",
    "mp_ids = [e[\"material_id\"] for e in entries]\n",
    "len(mp_ids)"
   ]
  },
  {
   "cell_type": "code",
   "execution_count": 4,
   "metadata": {},
   "outputs": [
    {
     "name": "stdout",
     "output_type": "stream",
     "text": [
      "fetching\n",
      "fetched\n"
     ]
    }
   ],
   "source": [
    "import pandas as pd\n",
    "df = pd.DataFrame()\n",
    "print(\"fetching\")\n",
    "for id in mp_ids:\n",
    "    entries = mpr.query({\"task_id\":id},[\"cif\",\"spacegroup.symbol\"])\n",
    "    df = df.append({\"Space_group\":entries[0][\"spacegroup.symbol\"],\"Material_id\":id},ignore_index=True)\n",
    "    file = open(\"cif\"+\"/\"+str(id)+\".cif\",\"w\")\n",
    "    file.write(entries[0][\"cif\"])\n",
    "    file.close()\n",
    "df.to_csv(\"data.csv\")\n",
    "print(\"fetched\")"
   ]
  },
  {
   "cell_type": "code",
   "execution_count": null,
   "metadata": {},
   "outputs": [],
   "source": []
  }
 ],
 "metadata": {
  "kernelspec": {
   "display_name": "Python 3",
   "language": "python",
   "name": "python3"
  },
  "language_info": {
   "codemirror_mode": {
    "name": "ipython",
    "version": 3
   },
   "file_extension": ".py",
   "mimetype": "text/x-python",
   "name": "python",
   "nbconvert_exporter": "python",
   "pygments_lexer": "ipython3",
   "version": "3.7.3"
  }
 },
 "nbformat": 4,
 "nbformat_minor": 2
}
